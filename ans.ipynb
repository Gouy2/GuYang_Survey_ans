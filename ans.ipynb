{
 "cells": [
  {
   "cell_type": "markdown",
   "metadata": {},
   "source": [
    "#### 5.What is the minimum number of times you need to roll a fair, six-sided die to ensure a better than 68% chance that your average die-roll value is within 1% of the most likely average?"
   ]
  },
  {
   "cell_type": "code",
   "execution_count": 31,
   "metadata": {},
   "outputs": [
    {
     "name": "stdout",
     "output_type": "stream",
     "text": [
      "The minimum number of rolls needed: N = 2320\n"
     ]
    }
   ],
   "source": [
    "import numpy as np\n",
    "\n",
    "def simulate_dice_rolls(n_rolls, n_simulations=50000):\n",
    "    \"\"\"\n",
    "    Simulates dice rolls and calculates the probability that the average roll value \n",
    "    is within 1% (±0.035) of the expected average (3.5).\n",
    "    \n",
    "    Parameters:\n",
    "        n_rolls (int): Number of dice rolls in each simulation.\n",
    "        n_simulations (int): Number of simulations to perform.\n",
    "    \n",
    "    Returns:\n",
    "        float: Probability that the average roll value is within the specified range.\n",
    "    \"\"\"\n",
    "    results = []\n",
    "    for _ in range(n_simulations):\n",
    "        # Simulate n_rolls dice rolls (values between 1 and 6)\n",
    "        rolls = np.random.randint(1, 7, size=n_rolls)\n",
    "        # Calculate the average of the rolls\n",
    "        avg = np.mean(rolls)\n",
    "        # Check if the average is within 3.5 ± 0.035\n",
    "        results.append(abs(avg - 3.5) <= 0.035)\n",
    "    # Return the proportion of simulations where the condition is met\n",
    "    return np.mean(results)\n",
    "\n",
    "# Automatic search for the minimum n satisfying the probability condition\n",
    "def find_minimum_n(target_probability=0.68, tolerance=0.001, max_simulations=10000):\n",
    "    \"\"\"\n",
    "    Finds the minimum number of dice rolls needed to achieve a probability greater \n",
    "    than the target_probability that the average roll is within 1% of the expected average.\n",
    "    \n",
    "    Parameters:\n",
    "        target_probability (float): The desired probability threshold (e.g., 0.68).\n",
    "        tolerance (float): The tolerance for stopping the search.\n",
    "        max_simulations (int): Number of simulations to run for each n.\n",
    "    \n",
    "    Returns:\n",
    "        int: The minimum n satisfying the condition.\n",
    "    \"\"\"\n",
    "    # n = 1  # Start from 1 roll\n",
    "    n = 2300\n",
    "    while n < 2400:\n",
    "        # Simulate for the current n value\n",
    "        probability = simulate_dice_rolls(n, n_simulations=max_simulations)\n",
    "        # Check if the probability meets the target\n",
    "        if probability >= target_probability:\n",
    "            return n\n",
    "        n += 1  # Increment n for the next test\n",
    "\n",
    "# Run the automated search\n",
    "min_n = find_minimum_n(target_probability=0.68, tolerance=0.001, max_simulations=100000)\n",
    "print(f\"The minimum number of rolls needed: N = {min_n}\")\n",
    "\n",
    "\n"
   ]
  },
  {
   "cell_type": "markdown",
   "metadata": {},
   "source": [
    "!! This result(minimum number N ) is a finite number of simulations, so there is an error between this result and the theoretical value. !!"
   ]
  },
  {
   "cell_type": "markdown",
   "metadata": {},
   "source": [
    "#### 6.Count the number of unique permutations of the alphabetic letters in this sentence excluding spaces.\n"
   ]
  },
  {
   "cell_type": "code",
   "execution_count": 32,
   "metadata": {},
   "outputs": [
    {
     "name": "stdout",
     "output_type": "stream",
     "text": [
      "sentence: countthenumberofuniquepermutationsofthealphabeticlettersinthissentenceexcludingspaces\n",
      "char_count: Counter({'e': 13, 't': 10, 'n': 8, 'u': 6, 'i': 6, 's': 6, 'c': 5, 'o': 4, 'h': 4, 'a': 4, 'r': 3, 'p': 3, 'l': 3, 'm': 2, 'b': 2, 'f': 2, 'q': 1, 'x': 1, 'd': 1, 'g': 1})\n",
      "total_chars: 85\n",
      "result: 288990007709280096167847556472285847523342145472499983192812053437330354467635200000000000\n"
     ]
    }
   ],
   "source": [
    "from collections import Counter\n",
    "import math\n",
    "\n",
    "def count_unique_permutations(sentence):\n",
    "    \"\"\"\n",
    "    Counts the number of unique permutations of the alphabetic characters in a given sentence.\n",
    "    Non-alphabetic characters and spaces are excluded. Permutations account for repeated letters.\n",
    "\n",
    "    Parameters:\n",
    "        sentence (str): The input sentence to analyze.\n",
    "    \n",
    "    Returns:\n",
    "        int: The number of unique permutations of the alphabetic characters.\n",
    "    \"\"\"\n",
    "    # Step 1: Remove spaces and convert the sentence to lowercase\n",
    "    sentence = sentence.replace(\" \", \"\").lower()\n",
    "    \n",
    "    # Step 2: Keep only alphabetic characters\n",
    "    # Filters out non-alphabetic characters using a generator expression\n",
    "    sentence = ''.join(char for char in sentence if char.isalpha())\n",
    "    print(f\"sentence: {sentence}\")  # Debug: Show cleaned sentence\n",
    "    \n",
    "    # Step 3: Count the frequency of each character\n",
    "    # Use the Counter class to count occurrences of each letter in the cleaned sentence\n",
    "    char_count = Counter(sentence)\n",
    "    print(f\"char_count: {char_count}\")  # Debug: Show frequency of each letter\n",
    "    \n",
    "    # Step 4: Calculate the total number of alphabetic characters\n",
    "    total_chars = sum(char_count.values())\n",
    "    print(f\"total_chars: {total_chars}\")  # Debug: Show the total number of characters\n",
    "    \n",
    "    # Step 5: Compute the denominator as the product of factorials of the counts of each letter\n",
    "    # Each letter's count contributes a factorial term to the denominator\n",
    "    denominator = 1\n",
    "    for count in char_count.values():\n",
    "        denominator *= math.factorial(count)\n",
    "    \n",
    "    # Step 6: Calculate unique permutations using the formula:\n",
    "    # n! / (n1! * n2! * ... * nk!), where n is the total number of characters,\n",
    "    # and n1, n2, ..., nk are the frequencies of each unique letter\n",
    "    unique_permutations = math.factorial(total_chars) // denominator\n",
    "    \n",
    "    return unique_permutations\n",
    "\n",
    "# Test the function with a sample sentence\n",
    "test_sentence = \"Count the number of unique permutations of the alphabetic letters in this sentence excluding spaces.\"\n",
    "result = count_unique_permutations(test_sentence)\n",
    "print(f\"result: {result}\")\n"
   ]
  },
  {
   "cell_type": "markdown",
   "metadata": {},
   "source": [
    "#### 8.Assume that the periods of Mercury, Venus, and Earth are approximately 88 days, 225 days, and 365.25 days. If these planets formed a straight line against the sun (i.e., within 1 degree of each other) when a person was born, how days old would this person be when they line up again? Assume a year has 365.25 days, and the person checks for planteary alignment at the same time once every day."
   ]
  },
  {
   "cell_type": "code",
   "execution_count": null,
   "metadata": {},
   "outputs": [
    {
     "name": "stdout",
     "output_type": "stream",
     "text": [
      "The planets realign after 5275 days.\n"
     ]
    }
   ],
   "source": [
    "import numpy as np\n",
    "\n",
    "def get_diff(angles:list) -> list:\n",
    "    a = abs(angles[0] - angles[1])\n",
    "    b = abs(angles[1] - angles[2])\n",
    "    c = abs(angles[2] - angles[0])\n",
    "    list_diff = [a, b, c]\n",
    "    return list_diff\n",
    "\n",
    "def check_alignment(days, periods):\n",
    "    \"\"\"\n",
    "    Checks if planets align within a tolerance of 1 degree.\n",
    "\n",
    "    Parameters:\n",
    "        days (int): The number of days that have passed.\n",
    "        periods (list of float): Orbital periods of the planets (in days).\n",
    "    \n",
    "    Returns:\n",
    "        bool: True if the planets are aligned within 1 degree, False otherwise.\n",
    "    \"\"\"\n",
    "    # Step 1: Calculate the angle (in degrees) of each planet's position\n",
    "    # relative to its orbital period. Use modulo to find the fractional cycle.\n",
    "    angles = [(days % period) * 360 / period for period in periods]\n",
    "\n",
    "    # Normalize angles to a range of 0–180 degrees\n",
    "    normalized_angles = [(angle % 180) for angle in angles]\n",
    "\n",
    "    # Log angles to a file for debugging purposes\n",
    "    with open(\"output.txt\", \"a\") as log_file:\n",
    "        log_file.write(f\"{days}, {normalized_angles}\\n\")\n",
    "\n",
    "    # Calculate the angular differences between each pair of planets\n",
    "    angular_differences = get_diff(normalized_angles)\n",
    "    \n",
    "    # Adjust differences that exceed 90 degrees (account for crossing the 180-degree mark)\n",
    "    adjusted_differences = [\n",
    "        180 - diff if diff >= 90 else diff for diff in angular_differences\n",
    "    ]\n",
    "\n",
    "    # Check if all adjusted differences are within 1 degree\n",
    "    are_aligned = all(diff <= 1 for diff in adjusted_differences)\n",
    "    \n",
    "    return are_aligned\n",
    "\n",
    "# Orbital periods of the planets (in days)\n",
    "# Mercury: 88 days, Venus: 225 days, Earth: 365.25 days\n",
    "periods = [88, 225, 365.25]\n",
    "\n",
    "# Step 5: Search for the first day when the planets realign\n",
    "days = 1\n",
    "while days < 1000000:  # Set an upper limit to avoid infinite loops\n",
    "    if check_alignment(days, periods):\n",
    "        print(f\"The planets realign after {days} days.\")\n",
    "        break  # Exit the loop once alignment is found\n",
    "    days += 1  # Increment the number of days to check the next day\n"
   ]
  },
  {
   "cell_type": "code",
   "execution_count": null,
   "metadata": {},
   "outputs": [],
   "source": []
  }
 ],
 "metadata": {
  "kernelspec": {
   "display_name": "ENV_DIR",
   "language": "python",
   "name": "python3"
  },
  "language_info": {
   "codemirror_mode": {
    "name": "ipython",
    "version": 3
   },
   "file_extension": ".py",
   "mimetype": "text/x-python",
   "name": "python",
   "nbconvert_exporter": "python",
   "pygments_lexer": "ipython3",
   "version": "3.9.18"
  }
 },
 "nbformat": 4,
 "nbformat_minor": 2
}
